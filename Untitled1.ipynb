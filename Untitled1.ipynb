{
  "nbformat": 4,
  "nbformat_minor": 0,
  "metadata": {
    "colab": {
      "name": "Untitled1.ipynb",
      "version": "0.3.2",
      "provenance": [],
      "private_outputs": true,
      "include_colab_link": true
    },
    "kernelspec": {
      "name": "python3",
      "display_name": "Python 3"
    },
    "accelerator": "GPU"
  },
  "cells": [
    {
      "cell_type": "markdown",
      "metadata": {
        "id": "view-in-github",
        "colab_type": "text"
      },
      "source": [
        "<a href=\"https://colab.research.google.com/github/kolisachint/PythonLearning/blob/master/Untitled1.ipynb\" target=\"_parent\"><img src=\"https://colab.research.google.com/assets/colab-badge.svg\" alt=\"Open In Colab\"/></a>"
      ]
    },
    {
      "metadata": {
        "id": "Q1m38W1oTYBm",
        "colab_type": "code",
        "colab": {}
      },
      "cell_type": "code",
      "source": [
        "import pandas as pd\n",
        "import numpy as np\n",
        "\n",
        "print(\"sachin\")"
      ],
      "execution_count": 0,
      "outputs": []
    },
    {
      "metadata": {
        "id": "ymzGJFVQUlT-",
        "colab_type": "text"
      },
      "cell_type": "markdown",
      "source": [
        "Ufuncs: Index Preservation\n",
        "Because Pandas is designed to work with NumPy, any NumPy ufunc will work on\n",
        "Pandas Series and DataFrame objects. Let’s start by defining a simple Series and\n",
        "DataFrame on which to demonstrate this:\n",
        "\n",
        "---\n",
        "\n",
        "\n",
        "\n",
        "---\n",
        "\n"
      ]
    },
    {
      "metadata": {
        "id": "xkIBVO4yUsud",
        "colab_type": "toc"
      },
      "cell_type": "markdown",
      "source": [
        "Ufuncs: Index Preservation\n",
        "Because Pandas is designed to work with NumPy, any NumPy ufunc will work on\n",
        "Pandas Series and DataFrame objects. Let’s start by defining a simple Series and\n",
        "DataFrame on which to demonstrate this:"
      ]
    }
  ]
}